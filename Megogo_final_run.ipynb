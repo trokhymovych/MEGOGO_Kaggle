{
 "cells": [
  {
   "cell_type": "markdown",
   "metadata": {},
   "source": [
    "# Megogo"
   ]
  },
  {
   "cell_type": "code",
   "execution_count": 1,
   "metadata": {
    "collapsed": false
   },
   "outputs": [
    {
     "name": "stderr",
     "output_type": "stream",
     "text": [
      "/home/maxtarnavsky98/anaconda3/lib/python3.5/site-packages/pandas/computation/__init__.py:19: UserWarning: The installed version of numexpr 2.4.4 is not supported in pandas and will be not be used\n",
      "\n",
      "  UserWarning)\n"
     ]
    }
   ],
   "source": [
    "from pyspark.sql import SparkSession\n",
    "import pyspark.sql.functions as sql_func\n",
    "from pyspark.sql.types import *\n",
    "from pyspark.ml.recommendation import ALS, ALSModel\n",
    "from pyspark.sql.functions import col\n",
    "from pyspark import sql, SparkConf, SparkContext\n",
    "\n",
    "from multiprocessing import Pool\n",
    "import multiprocessing\n",
    "from functools import partial\n",
    "\n",
    "from lightfm.data import Dataset\n",
    "from lightfm import LightFM\n",
    "from collections import Counter\n",
    "\n",
    "import pandas as pd\n",
    "import numpy as np\n",
    "import json\n",
    "import copy\n",
    "import os\n",
    "from tqdm.auto import tqdm\n",
    "\n",
    "%load_ext Cython"
   ]
  },
  {
   "cell_type": "markdown",
   "metadata": {},
   "source": [
    "# Train test split"
   ]
  },
  {
   "cell_type": "code",
   "execution_count": 2,
   "metadata": {
    "collapsed": true
   },
   "outputs": [],
   "source": [
    "def check_path(path):\n",
    "    os.system(\"if [ ! -d \" + path + \" ]; then mkdir -p \" + path + \"; fi\")"
   ]
  },
  {
   "cell_type": "code",
   "execution_count": 3,
   "metadata": {
    "collapsed": true
   },
   "outputs": [],
   "source": [
    "DATA_PATH = 'data/'\n",
    "SAVE_PATH = 'save/'"
   ]
  },
  {
   "cell_type": "code",
   "execution_count": 4,
   "metadata": {
    "collapsed": false
   },
   "outputs": [
    {
     "data": {
      "text/html": [
       "<div>\n",
       "<table border=\"1\" class=\"dataframe\">\n",
       "  <thead>\n",
       "    <tr style=\"text-align: right;\">\n",
       "      <th></th>\n",
       "      <th>session_start_datetime</th>\n",
       "      <th>user_id</th>\n",
       "      <th>user_ip</th>\n",
       "      <th>primary_video_id</th>\n",
       "      <th>video_id</th>\n",
       "      <th>vod_type</th>\n",
       "      <th>session_duration</th>\n",
       "      <th>device_type</th>\n",
       "      <th>device_os</th>\n",
       "      <th>player_position_min</th>\n",
       "      <th>player_position_max</th>\n",
       "      <th>time_cumsum_max</th>\n",
       "      <th>video_duration</th>\n",
       "      <th>watching_percentage</th>\n",
       "    </tr>\n",
       "  </thead>\n",
       "  <tbody>\n",
       "    <tr>\n",
       "      <th>0</th>\n",
       "      <td>2018-07-01 00:00:02.135</td>\n",
       "      <td>21603820</td>\n",
       "      <td>27241033</td>\n",
       "      <td>9583642</td>\n",
       "      <td>9583642</td>\n",
       "      <td>svod</td>\n",
       "      <td>688</td>\n",
       "      <td>web</td>\n",
       "      <td>Windows_10</td>\n",
       "      <td>6940</td>\n",
       "      <td>6940</td>\n",
       "      <td>93</td>\n",
       "      <td>8198</td>\n",
       "      <td>0.0839</td>\n",
       "    </tr>\n",
       "    <tr>\n",
       "      <th>1</th>\n",
       "      <td>2018-07-01 00:00:02.232</td>\n",
       "      <td>35636970</td>\n",
       "      <td>10887511</td>\n",
       "      <td>24645936</td>\n",
       "      <td>24645936</td>\n",
       "      <td>advod</td>\n",
       "      <td>3174</td>\n",
       "      <td>mobile</td>\n",
       "      <td>android</td>\n",
       "      <td>599</td>\n",
       "      <td>3173</td>\n",
       "      <td>0</td>\n",
       "      <td>5297</td>\n",
       "      <td>0.5990</td>\n",
       "    </tr>\n",
       "  </tbody>\n",
       "</table>\n",
       "</div>"
      ],
      "text/plain": [
       "    session_start_datetime   user_id   user_ip  primary_video_id  video_id  \\\n",
       "0  2018-07-01 00:00:02.135  21603820  27241033           9583642   9583642   \n",
       "1  2018-07-01 00:00:02.232  35636970  10887511          24645936  24645936   \n",
       "\n",
       "  vod_type  session_duration device_type   device_os  player_position_min  \\\n",
       "0     svod               688         web  Windows_10                 6940   \n",
       "1    advod              3174      mobile     android                  599   \n",
       "\n",
       "   player_position_max  time_cumsum_max  video_duration  watching_percentage  \n",
       "0                 6940               93            8198               0.0839  \n",
       "1                 3173                0            5297               0.5990  "
      ]
     },
     "execution_count": 4,
     "metadata": {},
     "output_type": "execute_result"
    }
   ],
   "source": [
    "train_full = pd.read_csv(DATA_PATH + 'train_data_full.csv')\n",
    "train_full.head(2)"
   ]
  },
  {
   "cell_type": "code",
   "execution_count": 5,
   "metadata": {
    "collapsed": true
   },
   "outputs": [],
   "source": [
    "proportion_train = int(0.8*len(train_full))\n",
    "train = train_full.loc[:proportion_train, :]\n",
    "test = train_full.loc[proportion_train+1:, :]"
   ]
  },
  {
   "cell_type": "code",
   "execution_count": 6,
   "metadata": {
    "collapsed": true
   },
   "outputs": [],
   "source": [
    "#save split local\n",
    "check_path(SAVE_PATH)"
   ]
  },
  {
   "cell_type": "code",
   "execution_count": 7,
   "metadata": {
    "collapsed": true
   },
   "outputs": [],
   "source": [
    "train.to_csv(SAVE_PATH+'train_80_20.csv', index=None)\n",
    "test.to_csv(SAVE_PATH+'test_80_20.csv', index=None)"
   ]
  },
  {
   "cell_type": "code",
   "execution_count": 8,
   "metadata": {
    "collapsed": true
   },
   "outputs": [],
   "source": [
    "del train\n",
    "del test\n",
    "del train_full"
   ]
  },
  {
   "cell_type": "markdown",
   "metadata": {},
   "source": [
    "# Model Spark ALS"
   ]
  },
  {
   "cell_type": "code",
   "execution_count": 9,
   "metadata": {
    "collapsed": true
   },
   "outputs": [],
   "source": [
    "train_path = SAVE_PATH+'train_80_20.csv'"
   ]
  },
  {
   "cell_type": "code",
   "execution_count": 10,
   "metadata": {
    "collapsed": true
   },
   "outputs": [],
   "source": [
    "conf = SparkConf().setAppName(\"test\")\n",
    "conf = (conf.setMaster('local[6]')\n",
    "        .set('spark.executor.memory', '25G')\n",
    "        .set('spark.driver.memory', '25G')\n",
    "        .set('spark.driver.maxResultSize', '25G'))\n",
    "sc = SparkContext(conf=conf)\n",
    "sqlContext = sql.SQLContext(sc)"
   ]
  },
  {
   "cell_type": "code",
   "execution_count": 11,
   "metadata": {
    "collapsed": true
   },
   "outputs": [],
   "source": [
    "#in \"local\" write number of cpu to use\n",
    "\n",
    "spark = SparkSession.builder.master(\"local[6]\").appName(\"test\").getOrCreate()\n",
    "\n",
    "data_schema = StructType([\n",
    "    StructField('session_start_datetime',TimestampType(), False),\n",
    "    StructField('user_id',IntegerType(), False),\n",
    "    StructField('user_ip',IntegerType(), False),\n",
    "    StructField('primary_video_id',IntegerType(), False),\n",
    "    StructField('video_id',IntegerType(), False),\n",
    "    StructField('vod_type',StringType(), False),\n",
    "    StructField('session_duration',IntegerType(), False),\n",
    "    StructField('device_type',StringType(), False),\n",
    "    StructField('device_os',StringType(), False),\n",
    "    StructField('player_position_min',LongType(), False),\n",
    "    StructField('player_position_max',LongType(), False),\n",
    "    StructField('time_cumsum_max',LongType(), False),\n",
    "    StructField('video_duration',IntegerType(), False),\n",
    "    StructField('watching_percentage',FloatType(), False)\n",
    "])\n",
    "final_stat = spark.read.csv(\n",
    "    train_path, header=True, schema=data_schema\n",
    ").cache()"
   ]
  },
  {
   "cell_type": "code",
   "execution_count": 12,
   "metadata": {
    "collapsed": false
   },
   "outputs": [
    {
     "data": {
      "text/html": [
       "<div>\n",
       "<table border=\"1\" class=\"dataframe\">\n",
       "  <thead>\n",
       "    <tr style=\"text-align: right;\">\n",
       "      <th></th>\n",
       "      <th>session_start_datetime</th>\n",
       "      <th>user_id</th>\n",
       "      <th>user_ip</th>\n",
       "      <th>primary_video_id</th>\n",
       "      <th>video_id</th>\n",
       "      <th>vod_type</th>\n",
       "      <th>session_duration</th>\n",
       "      <th>device_type</th>\n",
       "      <th>device_os</th>\n",
       "      <th>player_position_min</th>\n",
       "      <th>player_position_max</th>\n",
       "      <th>time_cumsum_max</th>\n",
       "      <th>video_duration</th>\n",
       "      <th>watching_percentage</th>\n",
       "    </tr>\n",
       "  </thead>\n",
       "  <tbody>\n",
       "    <tr>\n",
       "      <th>0</th>\n",
       "      <td>2018-07-01 00:00:02.135</td>\n",
       "      <td>21603820</td>\n",
       "      <td>27241033</td>\n",
       "      <td>9583642</td>\n",
       "      <td>9583642</td>\n",
       "      <td>svod</td>\n",
       "      <td>688</td>\n",
       "      <td>web</td>\n",
       "      <td>Windows_10</td>\n",
       "      <td>6940</td>\n",
       "      <td>6940</td>\n",
       "      <td>93</td>\n",
       "      <td>8198</td>\n",
       "      <td>0.0839</td>\n",
       "    </tr>\n",
       "    <tr>\n",
       "      <th>1</th>\n",
       "      <td>2018-07-01 00:00:02.232</td>\n",
       "      <td>35636970</td>\n",
       "      <td>10887511</td>\n",
       "      <td>24645936</td>\n",
       "      <td>24645936</td>\n",
       "      <td>advod</td>\n",
       "      <td>3174</td>\n",
       "      <td>mobile</td>\n",
       "      <td>android</td>\n",
       "      <td>599</td>\n",
       "      <td>3173</td>\n",
       "      <td>0</td>\n",
       "      <td>5297</td>\n",
       "      <td>0.5990</td>\n",
       "    </tr>\n",
       "    <tr>\n",
       "      <th>2</th>\n",
       "      <td>2018-07-01 00:00:06.961</td>\n",
       "      <td>78312976</td>\n",
       "      <td>15427448</td>\n",
       "      <td>25397362</td>\n",
       "      <td>23346676</td>\n",
       "      <td>advod</td>\n",
       "      <td>3054</td>\n",
       "      <td>tv</td>\n",
       "      <td>samsung</td>\n",
       "      <td>599</td>\n",
       "      <td>3052</td>\n",
       "      <td>3032</td>\n",
       "      <td>3052</td>\n",
       "      <td>1.0000</td>\n",
       "    </tr>\n",
       "  </tbody>\n",
       "</table>\n",
       "</div>"
      ],
      "text/plain": [
       "   session_start_datetime   user_id   user_ip  primary_video_id  video_id  \\\n",
       "0 2018-07-01 00:00:02.135  21603820  27241033           9583642   9583642   \n",
       "1 2018-07-01 00:00:02.232  35636970  10887511          24645936  24645936   \n",
       "2 2018-07-01 00:00:06.961  78312976  15427448          25397362  23346676   \n",
       "\n",
       "  vod_type  session_duration device_type   device_os  player_position_min  \\\n",
       "0     svod               688         web  Windows_10                 6940   \n",
       "1    advod              3174      mobile     android                  599   \n",
       "2    advod              3054          tv     samsung                  599   \n",
       "\n",
       "   player_position_max  time_cumsum_max  video_duration  watching_percentage  \n",
       "0                 6940               93            8198               0.0839  \n",
       "1                 3173                0            5297               0.5990  \n",
       "2                 3052             3032            3052               1.0000  "
      ]
     },
     "execution_count": 12,
     "metadata": {},
     "output_type": "execute_result"
    }
   ],
   "source": [
    "final_stat.limit(3).toPandas()"
   ]
  },
  {
   "cell_type": "code",
   "execution_count": 13,
   "metadata": {
    "collapsed": true
   },
   "outputs": [],
   "source": [
    "#for selecting users\n",
    "# ids = [21603820, 78312976, 53477088]\n",
    "# users_spark = final_stat.filter(final_stat.user_id.isin(ids)).select('user_id').distinct()"
   ]
  },
  {
   "cell_type": "markdown",
   "metadata": {},
   "source": [
    "## Train ALS"
   ]
  },
  {
   "cell_type": "code",
   "execution_count": 14,
   "metadata": {
    "collapsed": true
   },
   "outputs": [],
   "source": [
    "ratings = (final_stat\n",
    "    .select(\n",
    "        'user_id',\n",
    "        'primary_video_id',\n",
    "        'watching_percentage',\n",
    "    )\n",
    ").repartition(200).cache()"
   ]
  },
  {
   "cell_type": "code",
   "execution_count": 15,
   "metadata": {
    "collapsed": false
   },
   "outputs": [
    {
     "name": "stdout",
     "output_type": "stream",
     "text": [
      "CPU times: user 344 ms, sys: 85.9 ms, total: 430 ms\n",
      "Wall time: 25min 49s\n"
     ]
    }
   ],
   "source": [
    "%%time\n",
    "als = ALS(rank=175, maxIter=10,\n",
    "          implicitPrefs=True,\n",
    "          regParam=1,\n",
    "          alpha=50,\n",
    "          userCol=\"user_id\", itemCol=\"primary_video_id\", ratingCol=\"watching_percentage\",\n",
    "          numUserBlocks=32, numItemBlocks=32,\n",
    "          coldStartStrategy=\"drop\")\n",
    "model = als.fit(ratings)"
   ]
  },
  {
   "cell_type": "markdown",
   "metadata": {},
   "source": [
    "## predict ALS"
   ]
  },
  {
   "cell_type": "code",
   "execution_count": 16,
   "metadata": {
    "collapsed": false
   },
   "outputs": [
    {
     "name": "stdout",
     "output_type": "stream",
     "text": [
      "CPU times: user 101 ms, sys: 4.98 ms, total: 106 ms\n",
      "Wall time: 5min 52s\n"
     ]
    }
   ],
   "source": [
    "%%time\n",
    "userRecsDf = model.recommendForAllUsers(25).cache()\n",
    "userRecsDf.count()"
   ]
  },
  {
   "cell_type": "code",
   "execution_count": 17,
   "metadata": {
    "collapsed": true
   },
   "outputs": [],
   "source": [
    "#userSubsetRecs = model.recommendForUserSubset(users_spark, 35).cache()"
   ]
  },
  {
   "cell_type": "code",
   "execution_count": 18,
   "metadata": {
    "collapsed": false
   },
   "outputs": [
    {
     "data": {
      "text/plain": [
       "(370865, 2)"
      ]
     },
     "execution_count": 18,
     "metadata": {},
     "output_type": "execute_result"
    }
   ],
   "source": [
    "userRecs = userRecsDf.toPandas()\n",
    "userRecs.shape"
   ]
  },
  {
   "cell_type": "code",
   "execution_count": 19,
   "metadata": {
    "collapsed": true
   },
   "outputs": [],
   "source": [
    "predicted_dict = userRecs.set_index('user_id').to_dict('index')\n",
    "predicted_dict = {str(user_id):[r[0] for r in recs['recommendations']] for user_id, recs in predicted_dict.items()}\n",
    "#len(predicted_dict)"
   ]
  },
  {
   "cell_type": "markdown",
   "metadata": {},
   "source": [
    "## save predict "
   ]
  },
  {
   "cell_type": "code",
   "execution_count": 20,
   "metadata": {
    "collapsed": true
   },
   "outputs": [],
   "source": [
    "with open(SAVE_PATH+'ALS_predicted_for_all_users_on_full_175_rank.json', 'w') as f:\n",
    "    json.dump(predicted_dict, f)"
   ]
  },
  {
   "cell_type": "code",
   "execution_count": 21,
   "metadata": {
    "collapsed": true
   },
   "outputs": [],
   "source": [
    "try:\n",
    "    del userRecs\n",
    "    del userRecsDf\n",
    "    del model\n",
    "    del data_schema\n",
    "    del ratings\n",
    "except:\n",
    "    pass"
   ]
  },
  {
   "cell_type": "markdown",
   "metadata": {},
   "source": [
    "# LightFM"
   ]
  },
  {
   "cell_type": "markdown",
   "metadata": {},
   "source": [
    "### prepera dataset"
   ]
  },
  {
   "cell_type": "code",
   "execution_count": 22,
   "metadata": {
    "collapsed": true
   },
   "outputs": [],
   "source": [
    "train = pd.read_csv(SAVE_PATH+'train_80_20.csv')\n",
    "test = pd.read_csv(SAVE_PATH+'test_80_20.csv')"
   ]
  },
  {
   "cell_type": "code",
   "execution_count": 23,
   "metadata": {
    "collapsed": true
   },
   "outputs": [],
   "source": [
    "# recommend for new users\n",
    "raw_sub = [4201568, 10062382, 17141087, 3657616, 19624341,\n",
    "           32222690, 6011714, 4874001, 3551683, 10976832, \n",
    "           30564130, 3696132, 18189717, 27740348, 2677761,\n",
    "           19901318, 28309169, 3011924, 26106566, 29646969,\n",
    "           19134359, 29114276, 25397362, 27230332, 11843490,\n",
    "           28765172, 21172094, 18846225, 22241900, 762848,\n",
    "           13914469, 8817934, 26997030, 16742579, 32970046]"
   ]
  },
  {
   "cell_type": "code",
   "execution_count": 24,
   "metadata": {
    "collapsed": false
   },
   "outputs": [
    {
     "name": "stdout",
     "output_type": "stream",
     "text": [
      "Num users: 370865, num_items 7099.\n"
     ]
    }
   ],
   "source": [
    "train_iter = train[['user_id', 'primary_video_id', 'watching_percentage']].to_dict('records')\n",
    "dataset = Dataset()\n",
    "dataset.fit((x['user_id'] for x in train_iter),\n",
    "            (x['primary_video_id'] for x in train_iter))\n",
    "\n",
    "num_users, num_items = dataset.interactions_shape()\n",
    "print('Num users: {}, num_items {}.'.format(num_users, num_items))\n",
    "\n",
    "(interactions, weights) = dataset.build_interactions(((x['user_id'], x['primary_video_id'], x['watching_percentage'])\n",
    "                                                      for x in train_iter))"
   ]
  },
  {
   "cell_type": "code",
   "execution_count": 25,
   "metadata": {
    "collapsed": true
   },
   "outputs": [],
   "source": [
    "def sample_recommendation(model, dataset, inv_map, user_map_to_int, user_id, k):\n",
    "    \n",
    "    user_id_int = user_map_to_int[user_id]\n",
    "    n_users, n_items = dataset.interactions_shape()     \n",
    "    scores = model.predict(user_id_int, np.arange(n_items))     \n",
    "    top_items = np.argsort(-scores)[:k]   \n",
    "    result = []\n",
    "    for x in top_items:\n",
    "        result.append(inv_map[x])\n",
    "    return result"
   ]
  },
  {
   "cell_type": "markdown",
   "metadata": {},
   "source": [
    "## Train LightFM"
   ]
  },
  {
   "cell_type": "code",
   "execution_count": 26,
   "metadata": {
    "collapsed": false
   },
   "outputs": [
    {
     "data": {
      "text/plain": [
       "<lightfm.lightfm.LightFM at 0x7f2720134400>"
      ]
     },
     "execution_count": 26,
     "metadata": {},
     "output_type": "execute_result"
    }
   ],
   "source": [
    "model = LightFM(loss='warp', no_components = 110)\n",
    "model.fit(interactions=interactions, sample_weight = weights, epochs=40, num_threads=7)"
   ]
  },
  {
   "cell_type": "code",
   "execution_count": 27,
   "metadata": {
    "collapsed": true
   },
   "outputs": [],
   "source": [
    "# dict of items\n",
    "item_map_to_int = dataset.mapping()[2]\n",
    "item_map = {v: k for k, v in item_map_to_int.items()}\n",
    "user_map_to_int = dataset.mapping()[0]\n",
    "user_map = {v: k for k, v in user_map_to_int.items()}"
   ]
  },
  {
   "cell_type": "markdown",
   "metadata": {},
   "source": [
    "## Predict LightFM"
   ]
  },
  {
   "cell_type": "code",
   "execution_count": 28,
   "metadata": {
    "collapsed": false
   },
   "outputs": [
    {
     "name": "stdout",
     "output_type": "stream",
     "text": [
      "\n"
     ]
    }
   ],
   "source": [
    "users_in_test = test.user_id.unique()\n",
    "result_test_to_submit = {}\n",
    "\n",
    "for user_uid in tqdm(users_in_test):\n",
    "    try:\n",
    "        user_cat = user_map_to_int[user_uid]\n",
    "        \n",
    "        # perform inference\n",
    "        recs = sample_recommendation(model, dataset, item_map, user_map_to_int, user_uid, 55)\n",
    "    \n",
    "        # drop scores and transform model's internal elelemnt category to element_uid for every prediction\n",
    "        # also convert np.uint64 to int so it could be json serialized later\n",
    "        result_test_to_submit[int(user_uid)] = [int(i) for i in recs]\n",
    "\n",
    "\n",
    "    except LookupError:\n",
    "        result_test_to_submit[int(user_uid)] = raw_sub"
   ]
  },
  {
   "cell_type": "markdown",
   "metadata": {},
   "source": [
    "### save predict"
   ]
  },
  {
   "cell_type": "code",
   "execution_count": 29,
   "metadata": {
    "collapsed": true
   },
   "outputs": [],
   "source": [
    "with open(SAVE_PATH+'LightFM_predict.json', 'w') as f:\n",
    "    json.dump(result_test_to_submit, f)"
   ]
  },
  {
   "cell_type": "markdown",
   "metadata": {},
   "source": [
    "# Filtration"
   ]
  },
  {
   "cell_type": "code",
   "execution_count": 30,
   "metadata": {
    "collapsed": true
   },
   "outputs": [],
   "source": [
    "# with open(SAVE_PATH+'ALS_predicted_for_all_users_on_full_175_rank.json', 'r') as f:\n",
    "#     predicted_dict = json.load(f)"
   ]
  },
  {
   "cell_type": "code",
   "execution_count": 31,
   "metadata": {
    "collapsed": true
   },
   "outputs": [],
   "source": [
    "users_in_test = test.user_id.unique()\n",
    "users_in_train = train.user_id.unique()\n",
    "known_users = list(set(users_in_train).intersection(set(users_in_test)))\n",
    "unknown_users = list((set(users_in_test))-set(users_in_train))"
   ]
  },
  {
   "cell_type": "code",
   "execution_count": 32,
   "metadata": {
    "collapsed": true
   },
   "outputs": [],
   "source": [
    "predict_ALS = {}\n",
    "for user in known_users:\n",
    "    predict_ALS[user] = predicted_dict[str(user)]\n",
    "for user in unknown_users:\n",
    "    predict_ALS[user] = raw_sub"
   ]
  },
  {
   "cell_type": "code",
   "execution_count": 33,
   "metadata": {
    "collapsed": true
   },
   "outputs": [],
   "source": [
    "del predicted_dict"
   ]
  },
  {
   "cell_type": "markdown",
   "metadata": {},
   "source": [
    "# Users preferences"
   ]
  },
  {
   "cell_type": "code",
   "execution_count": 34,
   "metadata": {
    "collapsed": true
   },
   "outputs": [],
   "source": [
    "train_path = SAVE_PATH+'train_80_20.csv'"
   ]
  },
  {
   "cell_type": "code",
   "execution_count": 35,
   "metadata": {
    "collapsed": true
   },
   "outputs": [],
   "source": [
    "df_tr = pd.read_csv(train_path)\n",
    "df_tr.loc[df_tr.primary_video_id != df_tr.video_id, 'is_serial'] = 1"
   ]
  },
  {
   "cell_type": "code",
   "execution_count": 36,
   "metadata": {
    "collapsed": true
   },
   "outputs": [],
   "source": [
    "temp = df_tr.groupby(['user_id', 'primary_video_id', 'is_serial']).size().reset_index()\n",
    "temp = temp.groupby(['user_id', 'is_serial']).size().reset_index()"
   ]
  },
  {
   "cell_type": "code",
   "execution_count": 37,
   "metadata": {
    "collapsed": true
   },
   "outputs": [],
   "source": [
    "users_who_have_watched_movies = set(temp.loc[temp.is_serial == 0, 'user_id'].unique())\n",
    "users_who_have_watched_serials = set(temp.loc[temp.is_serial == 1, 'user_id'].unique())"
   ]
  },
  {
   "cell_type": "code",
   "execution_count": 38,
   "metadata": {
    "collapsed": true
   },
   "outputs": [],
   "source": [
    "users_who_watch_only_movies = users_who_have_watched_movies - users_who_have_watched_serials\n",
    "users_who_watch_only_serials = users_who_have_watched_serials - users_who_have_watched_movies\n",
    "user_who_watch_both = users_who_have_watched_serials.intersection(users_who_have_watched_movies)"
   ]
  },
  {
   "cell_type": "code",
   "execution_count": 39,
   "metadata": {
    "collapsed": true
   },
   "outputs": [],
   "source": [
    "with open('users_movies_only.txt', 'w') as f:\n",
    "    for item in users_who_watch_only_movies:\n",
    "        f.write(\"%s\\n\" % item)\n",
    "        \n",
    "with open('users_serials_only.txt', 'w') as f:\n",
    "    for item in users_who_watch_only_serials:\n",
    "        f.write(\"%s\\n\" % item)\n",
    "        \n",
    "with open('user_both.txt', 'w') as f:\n",
    "    for item in user_who_watch_both:\n",
    "        f.write(\"%s\\n\" % item)"
   ]
  },
  {
   "cell_type": "code",
   "execution_count": 40,
   "metadata": {
    "collapsed": true
   },
   "outputs": [],
   "source": [
    "del df_tr\n",
    "del temp\n",
    "del users_who_have_watched_movies\n",
    "del users_who_have_watched_serials"
   ]
  },
  {
   "cell_type": "markdown",
   "metadata": {},
   "source": [
    "# Create a filter"
   ]
  },
  {
   "cell_type": "code",
   "execution_count": 41,
   "metadata": {
    "collapsed": true
   },
   "outputs": [],
   "source": [
    "text_file = open(\"users_serials_only.txt\", \"r\")\n",
    "lines = text_file.read().split('\\n')\n",
    "text_file.close()\n",
    "serials_u = set([int(i) for i in lines[:-1]])\n",
    "\n",
    "text_file = open(\"users_movies_only.txt\", \"r\")\n",
    "lines = text_file.read().split('\\n')\n",
    "text_file.close()\n",
    "films_u = set([int(i) for i in lines[:-1]])\n",
    "\n",
    "text_file = open(\"user_both.txt\", \"r\")\n",
    "lines = text_file.read().split('\\n')\n",
    "text_file.close()\n",
    "both_u = set([int(i) for i in lines[:-1]])"
   ]
  },
  {
   "cell_type": "code",
   "execution_count": 42,
   "metadata": {
    "collapsed": true
   },
   "outputs": [],
   "source": [
    "meta = pd.read_csv(DATA_PATH+'video_meta_data_full.csv')\n",
    "series_in_video = meta.groupby('primary_video_id').count()['video_id']"
   ]
  },
  {
   "cell_type": "code",
   "execution_count": 43,
   "metadata": {
    "collapsed": true
   },
   "outputs": [],
   "source": [
    "films = set(meta[meta.type.isin(['FILM','FILM3D','MULTFILM', 'SHOWFILM'])]['primary_video_id'])\n",
    "notfilms = set(meta[~meta.type.isin(['FILM','FILM3D', 'MULTFILM', 'SHOWFILM'])]['primary_video_id'])\n",
    "mult = set(meta[meta.type.isin(['MULTFILM', 'MULTSERIAL'])]['primary_video_id'])"
   ]
  },
  {
   "cell_type": "code",
   "execution_count": 44,
   "metadata": {
    "collapsed": true
   },
   "outputs": [],
   "source": [
    "# postprocessing (filterring recommendations)\n",
    "    \n",
    "def check(u_to_observ, result_test_to_submit):\n",
    "    \n",
    "    to_observ = result_test_to_submit[u_to_observ]\n",
    "    try:\n",
    "        if u_to_observ in films_u:\n",
    "            for item in copy.deepcopy(to_observ):\n",
    "                if item in notfilms:\n",
    "                    to_observ.remove(item)\n",
    "                    continue\n",
    "                if np.sum(np.array(train_f[str(u_to_observ)])==item)>=1:\n",
    "                    to_observ.remove(item)\n",
    "\n",
    "        elif u_to_observ in serials_u:\n",
    "            for item in copy.deepcopy(to_observ):\n",
    "                if item in films:\n",
    "                    to_observ.remove(item)\n",
    "                    continue\n",
    "                if np.sum(np.array(train_f[str(u_to_observ)])==item)==series_in_video[item]:\n",
    "                    to_observ.remove(item)\n",
    "        else:\n",
    "            for item in copy.deepcopy(to_observ):\n",
    "                if (item in films) and (np.sum(np.array(train_f[str(u_to_observ)])==item)>=1):\n",
    "                    to_observ.remove(item)\n",
    "                    continue\n",
    "                if (item in notfilms) and (np.sum(np.array(train_f[str(u_to_observ)])==item)==series_in_video[item]):\n",
    "                    to_observ.remove(item)\n",
    "        return(to_observ)\n",
    "    \n",
    "    except LookupError:\n",
    "        return(to_observ)"
   ]
  },
  {
   "cell_type": "markdown",
   "metadata": {},
   "source": [
    "### Transform train and test to dict"
   ]
  },
  {
   "cell_type": "code",
   "execution_count": 45,
   "metadata": {
    "collapsed": true
   },
   "outputs": [],
   "source": [
    "def batch_helper(users, test):\n",
    "    test = test[test.user.isin(users)]\n",
    "    one_res_dic = {}\n",
    "    for user in users:\n",
    "        one_res_dic[str(user)] = list(test[test.user==user].item)\n",
    "    return one_res_dic\n",
    "\n",
    "def batch_dic(test):\n",
    "    users = list(test.user.unique())\n",
    "    cpus_to_use = (multiprocessing.cpu_count() - 1)\n",
    "    one_chunk = int(len(users)/cpus_to_use)\n",
    "    chunks = [users[i*one_chunk:(i+1)*one_chunk] for i in range(cpus_to_use)]\n",
    "    for u in users[(cpus_to_use+1)*one_chunk:]:\n",
    "           chunks[-1].append(u)\n",
    "\n",
    "    result = []\n",
    "    result_dic = {}\n",
    "    p = Pool()\n",
    "    result = p.map(partial(batch_helper, test=test), chunks)\n",
    "\n",
    "    for one_res in result:\n",
    "           result_dic.update(one_res)\n",
    "\n",
    "    return result_dic"
   ]
  },
  {
   "cell_type": "code",
   "execution_count": 46,
   "metadata": {
    "collapsed": true
   },
   "outputs": [],
   "source": [
    "train = train[['user_id', 'primary_video_id', 'watching_percentage']]\n",
    "train.columns = ['user', 'item', 'rate']"
   ]
  },
  {
   "cell_type": "code",
   "execution_count": 47,
   "metadata": {
    "collapsed": false
   },
   "outputs": [
    {
     "name": "stdout",
     "output_type": "stream",
     "text": [
      "CPU times: user 8.33 s, sys: 4.47 s, total: 12.8 s\n",
      "Wall time: 2min 57s\n"
     ]
    }
   ],
   "source": [
    "%%time\n",
    "train_f = batch_dic(train)"
   ]
  },
  {
   "cell_type": "markdown",
   "metadata": {},
   "source": [
    "#### Filter for LightFM"
   ]
  },
  {
   "cell_type": "code",
   "execution_count": 48,
   "metadata": {
    "collapsed": false
   },
   "outputs": [
    {
     "name": "stdout",
     "output_type": "stream",
     "text": [
      "\n"
     ]
    }
   ],
   "source": [
    "result_test_to_submit_LightFM = {}\n",
    "for k in tqdm(result_test_to_submit.keys()):\n",
    "    result_test_to_submit_LightFM[k] = check(k, result_test_to_submit)"
   ]
  },
  {
   "cell_type": "markdown",
   "metadata": {},
   "source": [
    "#### Filter for SparkALS"
   ]
  },
  {
   "cell_type": "code",
   "execution_count": 49,
   "metadata": {
    "collapsed": false
   },
   "outputs": [
    {
     "name": "stdout",
     "output_type": "stream",
     "text": [
      "\n"
     ]
    }
   ],
   "source": [
    "result_test_to_submit_SparkALS = {}\n",
    "for k in tqdm(predict_ALS.keys()):\n",
    "    result_test_to_submit_SparkALS[k] = check(k, predict_ALS)"
   ]
  },
  {
   "cell_type": "markdown",
   "metadata": {},
   "source": [
    "### Merge 2 results"
   ]
  },
  {
   "cell_type": "code",
   "execution_count": 50,
   "metadata": {
    "collapsed": true
   },
   "outputs": [],
   "source": [
    "lightfm = result_test_to_submit_LightFM\n",
    "als = result_test_to_submit_SparkALS"
   ]
  },
  {
   "cell_type": "code",
   "execution_count": 71,
   "metadata": {
    "collapsed": true
   },
   "outputs": [],
   "source": [
    "for user in unknown_users:\n",
    "    als[user] = raw_sub\n",
    "    lightfm[user] = raw_sub\n",
    "    \n",
    "for k in als.keys():\n",
    "    if len(als[k]) == 0:\n",
    "        als[k] = raw_sub\n",
    "\n",
    "for k in lightfm.keys():\n",
    "    if len(lightfm[k]) == 0:\n",
    "        lightfm[k] = raw_sub"
   ]
  },
  {
   "cell_type": "code",
   "execution_count": 72,
   "metadata": {
    "collapsed": true
   },
   "outputs": [],
   "source": [
    "test_users = users_in_test"
   ]
  },
  {
   "cell_type": "code",
   "execution_count": 61,
   "metadata": {
    "collapsed": true
   },
   "outputs": [],
   "source": [
    "res = []\n",
    "for k in list(test_users):\n",
    "    try: \n",
    "        a = [str(el) for el in als[k]]\n",
    "        res.append(' '.join(a))\n",
    "    except KeyError:\n",
    "        a = [str(el) for el in raw_sub]\n",
    "        res.append(' '.join(a))\n",
    "        \n",
    "sub1 = pd.DataFrame({'user_id':list(test_users), 'primary_video_id':res})"
   ]
  },
  {
   "cell_type": "code",
   "execution_count": 62,
   "metadata": {
    "collapsed": false
   },
   "outputs": [
    {
     "data": {
      "text/html": [
       "<div>\n",
       "<table border=\"1\" class=\"dataframe\">\n",
       "  <thead>\n",
       "    <tr style=\"text-align: right;\">\n",
       "      <th></th>\n",
       "      <th>primary_video_id</th>\n",
       "      <th>user_id</th>\n",
       "    </tr>\n",
       "  </thead>\n",
       "  <tbody>\n",
       "    <tr>\n",
       "      <th>0</th>\n",
       "      <td>32222690 11269852 29646969 18189717 10567708 3...</td>\n",
       "      <td>109804426</td>\n",
       "    </tr>\n",
       "    <tr>\n",
       "      <th>1</th>\n",
       "      <td>5794535 5446025 22575620 5760990 18369026 2277...</td>\n",
       "      <td>22096103</td>\n",
       "    </tr>\n",
       "  </tbody>\n",
       "</table>\n",
       "</div>"
      ],
      "text/plain": [
       "                                    primary_video_id    user_id\n",
       "0  32222690 11269852 29646969 18189717 10567708 3...  109804426\n",
       "1  5794535 5446025 22575620 5760990 18369026 2277...   22096103"
      ]
     },
     "execution_count": 62,
     "metadata": {},
     "output_type": "execute_result"
    }
   ],
   "source": [
    "sub1.head(2)"
   ]
  },
  {
   "cell_type": "code",
   "execution_count": 63,
   "metadata": {
    "collapsed": true
   },
   "outputs": [],
   "source": [
    "res = []\n",
    "for k in list(test_users):\n",
    "    try: \n",
    "        a = [str(el) for el in lightfm[k]]\n",
    "        res.append(' '.join(a))\n",
    "    except KeyError:\n",
    "        a = [str(el) for el in raw_sub]\n",
    "        res.append(' '.join(a))\n",
    "        \n",
    "sub2 = pd.DataFrame({'user_id':list(test_users), 'primary_video_id':res})"
   ]
  },
  {
   "cell_type": "code",
   "execution_count": 64,
   "metadata": {
    "collapsed": false
   },
   "outputs": [
    {
     "data": {
      "text/html": [
       "<div>\n",
       "<table border=\"1\" class=\"dataframe\">\n",
       "  <thead>\n",
       "    <tr style=\"text-align: right;\">\n",
       "      <th></th>\n",
       "      <th>primary_video_id</th>\n",
       "      <th>user_id</th>\n",
       "    </tr>\n",
       "  </thead>\n",
       "  <tbody>\n",
       "    <tr>\n",
       "      <th>0</th>\n",
       "      <td>3696132 2677761 32222690 28765172 18763922 277...</td>\n",
       "      <td>109804426</td>\n",
       "    </tr>\n",
       "    <tr>\n",
       "      <th>1</th>\n",
       "      <td>5794535 2677761 27740348 3696132 11839626 2876...</td>\n",
       "      <td>22096103</td>\n",
       "    </tr>\n",
       "  </tbody>\n",
       "</table>\n",
       "</div>"
      ],
      "text/plain": [
       "                                    primary_video_id    user_id\n",
       "0  3696132 2677761 32222690 28765172 18763922 277...  109804426\n",
       "1  5794535 2677761 27740348 3696132 11839626 2876...   22096103"
      ]
     },
     "execution_count": 64,
     "metadata": {},
     "output_type": "execute_result"
    }
   ],
   "source": [
    "sub2.head(2)"
   ]
  },
  {
   "cell_type": "code",
   "execution_count": 65,
   "metadata": {
    "collapsed": true
   },
   "outputs": [],
   "source": [
    "def make_int(sub):\n",
    "    res = []\n",
    "    for row in sub:\n",
    "        res.append([int(item) for item in row])\n",
    "    return res"
   ]
  },
  {
   "cell_type": "code",
   "execution_count": 66,
   "metadata": {
    "collapsed": false
   },
   "outputs": [],
   "source": [
    "users1 = sub1['user_id']\n",
    "users2 = sub2['user_id']\n",
    "\n",
    "sub1 = [i.split(' ') for i in sub1.primary_video_id.values]\n",
    "sub2 = [i.split(' ') for i in sub2.primary_video_id.values]\n",
    "\n",
    "sub1 = make_int(sub1)\n",
    "sub2 = make_int(sub2)\n",
    "\n",
    "result1 = {}\n",
    "for j in range(len(users1)):\n",
    "    user = users1[j]\n",
    "    result1[user] = {}\n",
    "    for i in range(len(sub1[j])):\n",
    "        result1[user][sub1[j][i]] = (200-i)\n",
    "        \n",
    "result2 = {}\n",
    "for j in range(len(users2)):\n",
    "    user = users2[j]\n",
    "    result2[user] = {}\n",
    "    for i in range(len(sub2[j])):\n",
    "        result2[user][sub2[j][i]] = (200-i)"
   ]
  },
  {
   "cell_type": "code",
   "execution_count": 67,
   "metadata": {
    "collapsed": false
   },
   "outputs": [
    {
     "name": "stdout",
     "output_type": "stream",
     "text": [
      "\n"
     ]
    }
   ],
   "source": [
    "final_result = {}\n",
    "\n",
    "for k in tqdm(result1.keys()):\n",
    "    A = Counter(result1[k])\n",
    "    B = Counter(result2[k])\n",
    "    a = dict(A+B)\n",
    "    final_result[str(k)] = sorted(a, key=a.get, reverse=True)[:10]"
   ]
  },
  {
   "cell_type": "markdown",
   "metadata": {},
   "source": [
    "# Metric"
   ]
  },
  {
   "cell_type": "code",
   "execution_count": 73,
   "metadata": {
    "collapsed": true
   },
   "outputs": [],
   "source": [
    "%%cython\n",
    "def average_precision(\n",
    "        dict data_true,\n",
    "        dict data_predicted,\n",
    "        const unsigned long int k\n",
    ") -> float:\n",
    "    cdef:\n",
    "        unsigned long int n_items_predicted\n",
    "        unsigned long int n_items_true\n",
    "        unsigned long int n_correct_items\n",
    "        unsigned long int item_idx\n",
    "\n",
    "        double average_precision_sum\n",
    "        double precision\n",
    "\n",
    "        set items_true\n",
    "        list items_predicted\n",
    "\n",
    "    if not data_true:\n",
    "        raise ValueError('data_true is empty')\n",
    "\n",
    "    average_precision_sum = 0.0\n",
    "\n",
    "    for key, items_true in data_true.items():\n",
    "        items_predicted = data_predicted.get(key, [])\n",
    "\n",
    "        n_items_true = len(items_true)\n",
    "        n_items_predicted = min(len(items_predicted), k)\n",
    "\n",
    "        if n_items_true == 0 or n_items_predicted == 0:\n",
    "            continue\n",
    "\n",
    "        n_correct_items = 0\n",
    "        precision = 0.0\n",
    "\n",
    "        for item_idx in range(n_items_predicted):\n",
    "            if items_predicted[item_idx] in items_true:\n",
    "                n_correct_items += 1\n",
    "                precision += <double>n_correct_items / <double>(item_idx + 1)\n",
    "\n",
    "        average_precision_sum += <double>precision / <double>min(n_items_true, k)\n",
    "\n",
    "    return average_precision_sum / <double>len(data_true)\n",
    "\n",
    "def metric(true_data, predicted_data, k=20):\n",
    "    true_data_set = {k: set(v) for k, v in true_data.items()}\n",
    "\n",
    "    return average_precision(true_data_set, predicted_data, k=k)"
   ]
  },
  {
   "cell_type": "markdown",
   "metadata": {},
   "source": [
    "## Filter test for relevant "
   ]
  },
  {
   "cell_type": "code",
   "execution_count": 74,
   "metadata": {
    "collapsed": false
   },
   "outputs": [
    {
     "data": {
      "text/html": [
       "<div>\n",
       "<table border=\"1\" class=\"dataframe\">\n",
       "  <thead>\n",
       "    <tr style=\"text-align: right;\">\n",
       "      <th></th>\n",
       "      <th>session_start_datetime</th>\n",
       "      <th>user_id</th>\n",
       "      <th>user_ip</th>\n",
       "      <th>primary_video_id</th>\n",
       "      <th>video_id</th>\n",
       "      <th>vod_type</th>\n",
       "      <th>session_duration</th>\n",
       "      <th>device_type</th>\n",
       "      <th>device_os</th>\n",
       "      <th>player_position_min</th>\n",
       "      <th>player_position_max</th>\n",
       "      <th>time_cumsum_max</th>\n",
       "      <th>video_duration</th>\n",
       "      <th>watching_percentage</th>\n",
       "    </tr>\n",
       "  </thead>\n",
       "  <tbody>\n",
       "    <tr>\n",
       "      <th>1</th>\n",
       "      <td>2018-09-13 12:46:34.980</td>\n",
       "      <td>22096103</td>\n",
       "      <td>45934161</td>\n",
       "      <td>5794535</td>\n",
       "      <td>32408296</td>\n",
       "      <td>advod</td>\n",
       "      <td>434</td>\n",
       "      <td>mobile</td>\n",
       "      <td>iOS 9.3.5</td>\n",
       "      <td>0</td>\n",
       "      <td>405</td>\n",
       "      <td>0</td>\n",
       "      <td>405</td>\n",
       "      <td>1.0</td>\n",
       "    </tr>\n",
       "    <tr>\n",
       "      <th>2</th>\n",
       "      <td>2018-09-13 12:46:36.188</td>\n",
       "      <td>66879139</td>\n",
       "      <td>65943854</td>\n",
       "      <td>14497595</td>\n",
       "      <td>14497595</td>\n",
       "      <td>advod</td>\n",
       "      <td>9426</td>\n",
       "      <td>android_tv</td>\n",
       "      <td>android</td>\n",
       "      <td>557</td>\n",
       "      <td>5815</td>\n",
       "      <td>0</td>\n",
       "      <td>5817</td>\n",
       "      <td>1.0</td>\n",
       "    </tr>\n",
       "  </tbody>\n",
       "</table>\n",
       "</div>"
      ],
      "text/plain": [
       "    session_start_datetime   user_id   user_ip  primary_video_id  video_id  \\\n",
       "1  2018-09-13 12:46:34.980  22096103  45934161           5794535  32408296   \n",
       "2  2018-09-13 12:46:36.188  66879139  65943854          14497595  14497595   \n",
       "\n",
       "  vod_type  session_duration device_type  device_os  player_position_min  \\\n",
       "1    advod               434      mobile  iOS 9.3.5                    0   \n",
       "2    advod              9426  android_tv    android                  557   \n",
       "\n",
       "   player_position_max  time_cumsum_max  video_duration  watching_percentage  \n",
       "1                  405                0             405                  1.0  \n",
       "2                 5815                0            5817                  1.0  "
      ]
     },
     "execution_count": 74,
     "metadata": {},
     "output_type": "execute_result"
    }
   ],
   "source": [
    "test.head(2)"
   ]
  },
  {
   "cell_type": "code",
   "execution_count": 75,
   "metadata": {
    "collapsed": true
   },
   "outputs": [],
   "source": [
    "test = test[test.watching_percentage >= 0.5]"
   ]
  },
  {
   "cell_type": "code",
   "execution_count": 76,
   "metadata": {
    "collapsed": true
   },
   "outputs": [],
   "source": [
    "test = test[['user_id', 'primary_video_id', 'watching_percentage']]\n",
    "test.columns = ['user', 'item', 'rate']"
   ]
  },
  {
   "cell_type": "code",
   "execution_count": 77,
   "metadata": {
    "collapsed": true
   },
   "outputs": [],
   "source": [
    "test_f = batch_dic(test)"
   ]
  },
  {
   "cell_type": "markdown",
   "metadata": {},
   "source": [
    "## Local validation"
   ]
  },
  {
   "cell_type": "code",
   "execution_count": 78,
   "metadata": {
    "collapsed": false
   },
   "outputs": [
    {
     "data": {
      "text/plain": [
       "0.0546808932682842"
      ]
     },
     "execution_count": 78,
     "metadata": {},
     "output_type": "execute_result"
    }
   ],
   "source": [
    "metric(test_f,final_result, k=10)"
   ]
  },
  {
   "cell_type": "markdown",
   "metadata": {},
   "source": [
    "## Save to submit"
   ]
  },
  {
   "cell_type": "code",
   "execution_count": 80,
   "metadata": {
    "collapsed": false
   },
   "outputs": [],
   "source": [
    "res = []\n",
    "for k in list(final_result.keys()):\n",
    "    a = final_result[k]\n",
    "    res.append(' '.join(str(a)))"
   ]
  },
  {
   "cell_type": "code",
   "execution_count": 81,
   "metadata": {
    "collapsed": true
   },
   "outputs": [],
   "source": [
    "sub_csv = pd.DataFrame({'user_id':list(final_result.keys()), 'primary_video_id':res})\n",
    "sub_csv.to_csv('super_final_submit.csv', index=False)"
   ]
  }
 ],
 "metadata": {
  "kernelspec": {
   "display_name": "Python 3",
   "language": "python",
   "name": "python3"
  },
  "language_info": {
   "codemirror_mode": {
    "name": "ipython",
    "version": 3
   },
   "file_extension": ".py",
   "mimetype": "text/x-python",
   "name": "python",
   "nbconvert_exporter": "python",
   "pygments_lexer": "ipython3",
   "version": "3.5.4"
  }
 },
 "nbformat": 4,
 "nbformat_minor": 1
}
